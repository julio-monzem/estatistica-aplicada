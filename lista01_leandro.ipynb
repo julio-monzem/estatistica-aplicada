{
  "cells": [
    {
      "cell_type": "markdown",
      "source": [
        "# Lista 01 - Prof. Dr. Leandro Ferreira\n"
      ],
      "metadata": {
        "id": "wtcSSpw6s7gy"
      }
    },
    {
      "cell_type": "markdown",
      "source": [
        "1 - O arquivo claims.csv contém uma amostra aleatória de 996 apólices de seguros de veículos referente ao período 2004-2005. As variáveis do arquivo estão na seguinte ordem : (i) valorv (valor do veículo em 10000 dolares australianos), (ii) expos (exposição do veículo), (iii) nsinistros (número de sinistros no período), (iv) csinistros (custo total dos sinistros em dolares australianos), (v) tipov (tipo do veículo em 11 categorias), (vi) idadev (idade do veículo em 4 categorias), (vii) sexoc (sexo do condutor principal), (viii) areac (área de residência do condutor principal) e (ix) idadec (idade do condutor principal em 6 categorias).\n",
        "\n",
        "Faça uma análise descritiva dos dados e procure agrupar em um número menor de categorias algumas variáveis categóricas. Considere como variável resposta (target) cmsinistros = csinistros/nsinistros.\n",
        "\n",
        "a) Qual é a relação da variável cmsinistros com sexo? Algum sexo é maior em média? Você consegue defender seu argumento utilizando as tecnicas que estudou?\n",
        "\n",
        "b) Estude cmsinistros em relação a idade do condutor. Sua impressão muda se adicionarmos a variável sexo?\n",
        "\n",
        "c) Existe uma relação clara de aumento de risco cmsinistros em relação ao valor do veículo?\n",
        "\n",
        "d) Faça uma amostra -Aleatória simples (200) -Estratificada (100 do sexo Masculino e 100 do sexo feminino)"
      ],
      "metadata": {
        "id": "XuDr8hcvsvhc"
      }
    },
    {
      "cell_type": "code",
      "source": [
        "import pandas as pd\n",
        "\n",
        "url = 'https://raw.githubusercontent.com/julio-monzem/estatistica-aplicada/refs/heads/main/claims.csv'\n",
        "\n",
        "dados = pd.read_csv(url, delimiter=';', decimal=',')\n",
        "\n",
        "dados['cmsinistros'] = dados.csinistros / dados.nsinistros\n"
      ],
      "metadata": {
        "colab": {
          "base_uri": "https://localhost:8080/",
          "height": 178
        },
        "id": "sFyL45Jms4ss",
        "outputId": "896e3c49-8951-4675-ccf8-bb97174febc9"
      },
      "execution_count": 14,
      "outputs": [
        {
          "output_type": "execute_result",
          "data": {
            "text/plain": [
              "sexoc\n",
              "F    630.48\n",
              "M    703.02\n",
              "Name: cmsinistros, dtype: float64"
            ],
            "text/html": [
              "<div>\n",
              "<style scoped>\n",
              "    .dataframe tbody tr th:only-of-type {\n",
              "        vertical-align: middle;\n",
              "    }\n",
              "\n",
              "    .dataframe tbody tr th {\n",
              "        vertical-align: top;\n",
              "    }\n",
              "\n",
              "    .dataframe thead th {\n",
              "        text-align: right;\n",
              "    }\n",
              "</style>\n",
              "<table border=\"1\" class=\"dataframe\">\n",
              "  <thead>\n",
              "    <tr style=\"text-align: right;\">\n",
              "      <th></th>\n",
              "      <th>cmsinistros</th>\n",
              "    </tr>\n",
              "    <tr>\n",
              "      <th>sexoc</th>\n",
              "      <th></th>\n",
              "    </tr>\n",
              "  </thead>\n",
              "  <tbody>\n",
              "    <tr>\n",
              "      <th>F</th>\n",
              "      <td>630.48</td>\n",
              "    </tr>\n",
              "    <tr>\n",
              "      <th>M</th>\n",
              "      <td>703.02</td>\n",
              "    </tr>\n",
              "  </tbody>\n",
              "</table>\n",
              "</div><br><label><b>dtype:</b> float64</label>"
            ]
          },
          "metadata": {},
          "execution_count": 14
        }
      ]
    },
    {
      "cell_type": "code",
      "source": [
        "# a\n",
        "\n",
        "dados.groupby('sexoc')['cmsinistros'].median()"
      ],
      "metadata": {
        "colab": {
          "base_uri": "https://localhost:8080/",
          "height": 466
        },
        "id": "tGKIIAshxY0a",
        "outputId": "90730b42-5bba-48f0-e399-2212ce5ca1e6"
      },
      "execution_count": 16,
      "outputs": [
        {
          "output_type": "execute_result",
          "data": {
            "text/plain": [
              "<Axes: xlabel='sexoc'>"
            ]
          },
          "metadata": {},
          "execution_count": 16
        },
        {
          "output_type": "display_data",
          "data": {
            "text/plain": [
              "<Figure size 640x480 with 1 Axes>"
            ],
            "image/png": "[encoded data removed]"
          },
          "metadata": {}
        }
      ]
    },
    {
      "cell_type": "code",
      "source": [
        "dados.groupby('idadec')['cmsinistros'].median()"
      ],
      "metadata": {
        "colab": {
          "base_uri": "https://localhost:8080/",
          "height": 303
        },
        "id": "dpWFa5oCxldl",
        "outputId": "efeabb19-a163-4609-9f81-966f9c28190f"
      },
      "execution_count": 17,
      "outputs": [
        {
          "output_type": "execute_result",
          "data": {
            "text/plain": [
              "idadec\n",
              "1    712.454996\n",
              "2    644.549999\n",
              "3    621.969999\n",
              "4    723.129999\n",
              "5    558.900000\n",
              "6    703.020000\n",
              "Name: cmsinistros, dtype: float64"
            ],
            "text/html": [
              "<div>\n",
              "<style scoped>\n",
              "    .dataframe tbody tr th:only-of-type {\n",
              "        vertical-align: middle;\n",
              "    }\n",
              "\n",
              "    .dataframe tbody tr th {\n",
              "        vertical-align: top;\n",
              "    }\n",
              "\n",
              "    .dataframe thead th {\n",
              "        text-align: right;\n",
              "    }\n",
              "</style>\n",
              "<table border=\"1\" class=\"dataframe\">\n",
              "  <thead>\n",
              "    <tr style=\"text-align: right;\">\n",
              "      <th></th>\n",
              "      <th>cmsinistros</th>\n",
              "    </tr>\n",
              "    <tr>\n",
              "      <th>idadec</th>\n",
              "      <th></th>\n",
              "    </tr>\n",
              "  </thead>\n",
              "  <tbody>\n",
              "    <tr>\n",
              "      <th>1</th>\n",
              "      <td>712.454996</td>\n",
              "    </tr>\n",
              "    <tr>\n",
              "      <th>2</th>\n",
              "      <td>644.549999</td>\n",
              "    </tr>\n",
              "    <tr>\n",
              "      <th>3</th>\n",
              "      <td>621.969999</td>\n",
              "    </tr>\n",
              "    <tr>\n",
              "      <th>4</th>\n",
              "      <td>723.129999</td>\n",
              "    </tr>\n",
              "    <tr>\n",
              "      <th>5</th>\n",
              "      <td>558.900000</td>\n",
              "    </tr>\n",
              "    <tr>\n",
              "      <th>6</th>\n",
              "      <td>703.020000</td>\n",
              "    </tr>\n",
              "  </tbody>\n",
              "</table>\n",
              "</div><br><label><b>dtype:</b> float64</label>"
            ]
          },
          "metadata": {},
          "execution_count": 17
        }
      ]
    },
    {
      "cell_type": "code",
      "source": [
        "dados.groupby(['idadec', 'sexoc'])['cmsinistros'].median()"
      ],
      "metadata": {
        "colab": {
          "base_uri": "https://localhost:8080/",
          "height": 491
        },
        "id": "_9QCRtDMxz20",
        "outputId": "bd0d92e3-5315-4bd1-a81e-e09a3b5ca553"
      },
      "execution_count": 18,
      "outputs": [
        {
          "output_type": "execute_result",
          "data": {
            "text/plain": [
              "idadec  sexoc\n",
              "1       F        613.049999\n",
              "        M        734.939999\n",
              "2       F        634.725000\n",
              "        M        644.549999\n",
              "3       F        633.489999\n",
              "        M        484.165000\n",
              "4       F        585.250000\n",
              "        M        886.000000\n",
              "5       F        481.855000\n",
              "        M        603.330000\n",
              "6       F        696.209999\n",
              "        M        733.894999\n",
              "Name: cmsinistros, dtype: float64"
            ],
            "text/html": [
              "<div>\n",
              "<style scoped>\n",
              "    .dataframe tbody tr th:only-of-type {\n",
              "        vertical-align: middle;\n",
              "    }\n",
              "\n",
              "    .dataframe tbody tr th {\n",
              "        vertical-align: top;\n",
              "    }\n",
              "\n",
              "    .dataframe thead th {\n",
              "        text-align: right;\n",
              "    }\n",
              "</style>\n",
              "<table border=\"1\" class=\"dataframe\">\n",
              "  <thead>\n",
              "    <tr style=\"text-align: right;\">\n",
              "      <th></th>\n",
              "      <th></th>\n",
              "      <th>cmsinistros</th>\n",
              "    </tr>\n",
              "    <tr>\n",
              "      <th>idadec</th>\n",
              "      <th>sexoc</th>\n",
              "      <th></th>\n",
              "    </tr>\n",
              "  </thead>\n",
              "  <tbody>\n",
              "    <tr>\n",
              "      <th rowspan=\"2\" valign=\"top\">1</th>\n",
              "      <th>F</th>\n",
              "      <td>613.049999</td>\n",
              "    </tr>\n",
              "    <tr>\n",
              "      <th>M</th>\n",
              "      <td>734.939999</td>\n",
              "    </tr>\n",
              "    <tr>\n",
              "      <th rowspan=\"2\" valign=\"top\">2</th>\n",
              "      <th>F</th>\n",
              "      <td>634.725000</td>\n",
              "    </tr>\n",
              "    <tr>\n",
              "      <th>M</th>\n",
              "      <td>644.549999</td>\n",
              "    </tr>\n",
              "    <tr>\n",
              "      <th rowspan=\"2\" valign=\"top\">3</th>\n",
              "      <th>F</th>\n",
              "      <td>633.489999</td>\n",
              "    </tr>\n",
              "    <tr>\n",
              "      <th>M</th>\n",
              "      <td>484.165000</td>\n",
              "    </tr>\n",
              "    <tr>\n",
              "      <th rowspan=\"2\" valign=\"top\">4</th>\n",
              "      <th>F</th>\n",
              "      <td>585.250000</td>\n",
              "    </tr>\n",
              "    <tr>\n",
              "      <th>M</th>\n",
              "      <td>886.000000</td>\n",
              "    </tr>\n",
              "    <tr>\n",
              "      <th rowspan=\"2\" valign=\"top\">5</th>\n",
              "      <th>F</th>\n",
              "      <td>481.855000</td>\n",
              "    </tr>\n",
              "    <tr>\n",
              "      <th>M</th>\n",
              "      <td>603.330000</td>\n",
              "    </tr>\n",
              "    <tr>\n",
              "      <th rowspan=\"2\" valign=\"top\">6</th>\n",
              "      <th>F</th>\n",
              "      <td>696.209999</td>\n",
              "    </tr>\n",
              "    <tr>\n",
              "      <th>M</th>\n",
              "      <td>733.894999</td>\n",
              "    </tr>\n",
              "  </tbody>\n",
              "</table>\n",
              "</div><br><label><b>dtype:</b> float64</label>"
            ]
          },
          "metadata": {},
          "execution_count": 18
        }
      ]
    },
    {
      "cell_type": "markdown",
      "source": [
        "2 - Para esse exercício será utilizado os dados referentes a um estudo de caso-controle realizado no Setor de Anatomia e Patologia do Hospital Heliópolis em São Paulo, no período de 1970 a 1982 (canc3.csv). Um total de 175 pacientes com processo infecioso pulmonar atendido no hospital no período acima foi classificado segundo as seguintes variáveis: tipo, tipo de tumor (1: maligno, 0: benigno); IDADE, idade em anos; SEXO (0:masculino, 1: feminino); HL, intensidade da célula histócitos-linfócitos (1:ausente, 2: discreta, 3: moderada, 4: intensa) e FF, intensidade da célula fibrose-frouxa (1:ausente, 2: discreta, 3: moderada, 4: intensa).\n",
        "\n",
        "a) Faça uma análise descritiva das variáveis do problema.\n",
        "\n",
        "b) Existe alguma variável que chama atenção em relação ao tipo de tumor? (Dica: Cruze as variáveis em relação ao tipo de tumor)."
      ],
      "metadata": {
        "id": "HQ1ed0dWuf2E"
      }
    },
    {
      "cell_type": "code",
      "source": [],
      "metadata": {
        "id": "wZp7oQJcu2gT"
      },
      "execution_count": null,
      "outputs": []
    },
    {
      "cell_type": "markdown",
      "metadata": {
        "id": "6aY6we7eseR7"
      },
      "source": [
        "3 - Cada amostra de ar tem 10% de chance de conter uma certa molécula rara. Considere que as amostras sejam independentes com relação à presença da molécula rara. Encontre a probabilidade de que em 18 amostras:\n",
        "\n",
        "a) Exatamente 2 contenham a molécula rara.\n",
        "\n",
        "b) No mínimo 4 amostras contenham a molécula rara.\n",
        "\n",
        "c) De 3 a 7 amostras contenham a molécula rara.\n",
        "\n",
        "d) O número médio e a variância de moléculas raras."
      ]
    },
    {
      "cell_type": "code",
      "execution_count": null,
      "metadata": {
        "id": "qf8Q5Hp3seR-",
        "outputId": "168a5954-5ee3-436d-cc35-42fd484ac04f"
      },
      "outputs": [
        {
          "name": "stdout",
          "output_type": "stream",
          "text": [
            "0.2835120888943317\n",
            "0.0981968414254375\n",
            "0.26603054787476754\n",
            "(1.8, 1.62)\n"
          ]
        }
      ],
      "source": [
        "from scipy.stats import binom\n",
        "\n",
        "probabilidade = 0.10\n",
        "n = 18\n",
        "\n",
        "a = binom.pmf(2, n, probabilidade)\n",
        "print(a)\n",
        "\n",
        "b = 1 - binom.cdf(3, n, probabilidade)\n",
        "print(b)\n",
        "\n",
        "c = binom.cdf(7, n, probabilidade) - binom.cdf(2, n, probabilidade)\n",
        "print(c)\n",
        "\n",
        "q = 1 - probabilidade\n",
        "nro_medio = n * probabilidade\n",
        "variancia = n * probabilidade * q\n",
        "\n",
        "d = (nro_medio, variancia)\n",
        "print(d)"
      ]
    }
  ],
  "metadata": {
    "kernelspec": {
      "display_name": "Python 3",
      "language": "python",
      "name": "python3"
    },
    "language_info": {
      "codemirror_mode": {
        "name": "ipython",
        "version": 3
      },
      "file_extension": ".py",
      "mimetype": "text/x-python",
      "name": "python",
      "nbconvert_exporter": "python",
      "pygments_lexer": "ipython3",
      "version": "3.12.3"
    },
    "colab": {
      "provenance": []
    }
  },
  "nbformat": 4,
  "nbformat_minor": 0
}